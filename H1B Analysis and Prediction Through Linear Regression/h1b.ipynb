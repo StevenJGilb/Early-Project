{
 "cells": [
  {
   "cell_type": "code",
   "execution_count": 1,
   "metadata": {},
   "outputs": [],
   "source": [
    "#Import required packages\n",
    "import numpy as np\n",
    "import pandas as pd\n",
    "from matplotlib import pyplot as plt\n",
    "from matplotlib.ticker import FuncFormatter"
   ]
  },
  {
   "cell_type": "code",
   "execution_count": 2,
   "metadata": {},
   "outputs": [],
   "source": [
    "#Assign each dataset to dataframe\n",
    "df = pd.read_csv('h1b-occ-emp.csv')\n",
    "df1 = pd.read_csv('h1b-ws-emp.csv')"
   ]
  },
  {
   "cell_type": "code",
   "execution_count": 3,
   "metadata": {},
   "outputs": [
    {
     "data": {
      "text/html": [
       "<div>\n",
       "<style scoped>\n",
       "    .dataframe tbody tr th:only-of-type {\n",
       "        vertical-align: middle;\n",
       "    }\n",
       "\n",
       "    .dataframe tbody tr th {\n",
       "        vertical-align: top;\n",
       "    }\n",
       "\n",
       "    .dataframe thead th {\n",
       "        text-align: right;\n",
       "    }\n",
       "</style>\n",
       "<table border=\"1\" class=\"dataframe\">\n",
       "  <thead>\n",
       "    <tr style=\"text-align: right;\">\n",
       "      <th></th>\n",
       "      <th>rank</th>\n",
       "      <th>sponsor</th>\n",
       "      <th>num_of_lca</th>\n",
       "      <th>avg_salary</th>\n",
       "      <th>occupation</th>\n",
       "    </tr>\n",
       "  </thead>\n",
       "  <tbody>\n",
       "    <tr>\n",
       "      <th>0</th>\n",
       "      <td>1</td>\n",
       "      <td>Google</td>\n",
       "      <td>7,419</td>\n",
       "      <td>$162,039</td>\n",
       "      <td>Software Developers, Applications</td>\n",
       "    </tr>\n",
       "    <tr>\n",
       "      <th>1</th>\n",
       "      <td>2</td>\n",
       "      <td>Microsoft</td>\n",
       "      <td>5,874</td>\n",
       "      <td>$151,207</td>\n",
       "      <td>Software Developers, Applications</td>\n",
       "    </tr>\n",
       "    <tr>\n",
       "      <th>2</th>\n",
       "      <td>3</td>\n",
       "      <td>Amazon,Com Services</td>\n",
       "      <td>4,256</td>\n",
       "      <td>$139,359</td>\n",
       "      <td>Software Developers, Applications</td>\n",
       "    </tr>\n",
       "    <tr>\n",
       "      <th>3</th>\n",
       "      <td>4</td>\n",
       "      <td>Meta Platforms</td>\n",
       "      <td>2,070</td>\n",
       "      <td>$183,224</td>\n",
       "      <td>Software Developers, Applications</td>\n",
       "    </tr>\n",
       "    <tr>\n",
       "      <th>4</th>\n",
       "      <td>5</td>\n",
       "      <td>Capgemini</td>\n",
       "      <td>2,006</td>\n",
       "      <td>$111,473</td>\n",
       "      <td>Software Developers, Applications</td>\n",
       "    </tr>\n",
       "    <tr>\n",
       "      <th>5</th>\n",
       "      <td>6</td>\n",
       "      <td>Wal-Mart Associates</td>\n",
       "      <td>1,923</td>\n",
       "      <td>$134,610</td>\n",
       "      <td>Software Developers, Applications</td>\n",
       "    </tr>\n",
       "    <tr>\n",
       "      <th>6</th>\n",
       "      <td>7</td>\n",
       "      <td>Deloitte Consulting</td>\n",
       "      <td>1,831</td>\n",
       "      <td>$120,585</td>\n",
       "      <td>Software Developers, Applications</td>\n",
       "    </tr>\n",
       "    <tr>\n",
       "      <th>7</th>\n",
       "      <td>8</td>\n",
       "      <td>J P Morgan Chase &amp; Co</td>\n",
       "      <td>1,807</td>\n",
       "      <td>$140,312</td>\n",
       "      <td>Software Developers, Applications</td>\n",
       "    </tr>\n",
       "    <tr>\n",
       "      <th>8</th>\n",
       "      <td>9</td>\n",
       "      <td>Compunnel Software Group</td>\n",
       "      <td>1,292</td>\n",
       "      <td>$110,995</td>\n",
       "      <td>Software Developers, Applications</td>\n",
       "    </tr>\n",
       "    <tr>\n",
       "      <th>9</th>\n",
       "      <td>10</td>\n",
       "      <td>Ernst Young</td>\n",
       "      <td>1,284</td>\n",
       "      <td>$142,836</td>\n",
       "      <td>Software Developers, Applications</td>\n",
       "    </tr>\n",
       "  </tbody>\n",
       "</table>\n",
       "</div>"
      ],
      "text/plain": [
       "  rank                   sponsor num_of_lca avg_salary  \\\n",
       "0    1                    Google      7,419  $162,039    \n",
       "1    2                 Microsoft      5,874  $151,207    \n",
       "2    3       Amazon,Com Services      4,256  $139,359    \n",
       "3    4            Meta Platforms      2,070  $183,224    \n",
       "4    5                 Capgemini      2,006  $111,473    \n",
       "5    6       Wal-Mart Associates      1,923  $134,610    \n",
       "6    7       Deloitte Consulting      1,831  $120,585    \n",
       "7    8     J P Morgan Chase & Co      1,807  $140,312    \n",
       "8    9  Compunnel Software Group      1,292  $110,995    \n",
       "9   10               Ernst Young      1,284  $142,836    \n",
       "\n",
       "                          occupation  \n",
       "0  Software Developers, Applications  \n",
       "1  Software Developers, Applications  \n",
       "2  Software Developers, Applications  \n",
       "3  Software Developers, Applications  \n",
       "4  Software Developers, Applications  \n",
       "5  Software Developers, Applications  \n",
       "6  Software Developers, Applications  \n",
       "7  Software Developers, Applications  \n",
       "8  Software Developers, Applications  \n",
       "9  Software Developers, Applications  "
      ]
     },
     "execution_count": 3,
     "metadata": {},
     "output_type": "execute_result"
    }
   ],
   "source": [
    "#Preview of dataset df (occupation)\n",
    "df.head(10)"
   ]
  },
  {
   "cell_type": "code",
   "execution_count": 4,
   "metadata": {},
   "outputs": [
    {
     "data": {
      "text/html": [
       "<div>\n",
       "<style scoped>\n",
       "    .dataframe tbody tr th:only-of-type {\n",
       "        vertical-align: middle;\n",
       "    }\n",
       "\n",
       "    .dataframe tbody tr th {\n",
       "        vertical-align: top;\n",
       "    }\n",
       "\n",
       "    .dataframe thead th {\n",
       "        text-align: right;\n",
       "    }\n",
       "</style>\n",
       "<table border=\"1\" class=\"dataframe\">\n",
       "  <thead>\n",
       "    <tr style=\"text-align: right;\">\n",
       "      <th></th>\n",
       "      <th>rank</th>\n",
       "      <th>sponsor</th>\n",
       "      <th>num_of_lca</th>\n",
       "      <th>avg_salary</th>\n",
       "      <th>work_state</th>\n",
       "    </tr>\n",
       "  </thead>\n",
       "  <tbody>\n",
       "    <tr>\n",
       "      <th>0</th>\n",
       "      <td>1</td>\n",
       "      <td>Ernst Young</td>\n",
       "      <td>1,246</td>\n",
       "      <td>$135,821</td>\n",
       "      <td>New York, NY</td>\n",
       "    </tr>\n",
       "    <tr>\n",
       "      <th>1</th>\n",
       "      <td>2</td>\n",
       "      <td>Google</td>\n",
       "      <td>1,036</td>\n",
       "      <td>$169,638</td>\n",
       "      <td>New York, NY</td>\n",
       "    </tr>\n",
       "    <tr>\n",
       "      <th>2</th>\n",
       "      <td>3</td>\n",
       "      <td>Amazon,Com Services</td>\n",
       "      <td>929</td>\n",
       "      <td>$144,480</td>\n",
       "      <td>New York, NY</td>\n",
       "    </tr>\n",
       "    <tr>\n",
       "      <th>3</th>\n",
       "      <td>4</td>\n",
       "      <td>Goldman, Sachs</td>\n",
       "      <td>881</td>\n",
       "      <td>$163,499</td>\n",
       "      <td>New York, NY</td>\n",
       "    </tr>\n",
       "    <tr>\n",
       "      <th>4</th>\n",
       "      <td>5</td>\n",
       "      <td>Meta Platforms</td>\n",
       "      <td>567</td>\n",
       "      <td>$185,422</td>\n",
       "      <td>New York, NY</td>\n",
       "    </tr>\n",
       "    <tr>\n",
       "      <th>5</th>\n",
       "      <td>6</td>\n",
       "      <td>J P Morgan Chase &amp; Co</td>\n",
       "      <td>548</td>\n",
       "      <td>$167,639</td>\n",
       "      <td>New York, NY</td>\n",
       "    </tr>\n",
       "    <tr>\n",
       "      <th>6</th>\n",
       "      <td>7</td>\n",
       "      <td>Morgan Stanley Services Group</td>\n",
       "      <td>438</td>\n",
       "      <td>$154,729</td>\n",
       "      <td>New York, NY</td>\n",
       "    </tr>\n",
       "    <tr>\n",
       "      <th>7</th>\n",
       "      <td>8</td>\n",
       "      <td>Columbia University</td>\n",
       "      <td>435</td>\n",
       "      <td>$101,187</td>\n",
       "      <td>New York, NY</td>\n",
       "    </tr>\n",
       "    <tr>\n",
       "      <th>8</th>\n",
       "      <td>9</td>\n",
       "      <td>Citibank</td>\n",
       "      <td>395</td>\n",
       "      <td>$171,231</td>\n",
       "      <td>New York, NY</td>\n",
       "    </tr>\n",
       "    <tr>\n",
       "      <th>9</th>\n",
       "      <td>10</td>\n",
       "      <td>Bloomberg</td>\n",
       "      <td>369</td>\n",
       "      <td>$198,043</td>\n",
       "      <td>New York, NY</td>\n",
       "    </tr>\n",
       "  </tbody>\n",
       "</table>\n",
       "</div>"
      ],
      "text/plain": [
       "  rank                        sponsor num_of_lca avg_salary    work_state\n",
       "0    1                    Ernst Young      1,246  $135,821   New York, NY\n",
       "1    2                         Google      1,036  $169,638   New York, NY\n",
       "2    3            Amazon,Com Services        929  $144,480   New York, NY\n",
       "3    4                 Goldman, Sachs        881  $163,499   New York, NY\n",
       "4    5                 Meta Platforms        567  $185,422   New York, NY\n",
       "5    6          J P Morgan Chase & Co        548  $167,639   New York, NY\n",
       "6    7  Morgan Stanley Services Group        438  $154,729   New York, NY\n",
       "7    8            Columbia University        435  $101,187   New York, NY\n",
       "8    9                       Citibank        395  $171,231   New York, NY\n",
       "9   10                      Bloomberg        369  $198,043   New York, NY"
      ]
     },
     "execution_count": 4,
     "metadata": {},
     "output_type": "execute_result"
    }
   ],
   "source": [
    "#Preview of dataset df1 (workcity)\n",
    "df1.head(10)"
   ]
  },
  {
   "cell_type": "markdown",
   "metadata": {},
   "source": [
    "**Data Cleaning for df (occupation)**"
   ]
  },
  {
   "cell_type": "code",
   "execution_count": 5,
   "metadata": {},
   "outputs": [
    {
     "data": {
      "text/plain": [
       "rank          31115\n",
       "sponsor       31115\n",
       "num_of_lca    31079\n",
       "avg_salary    31079\n",
       "occupation    31079\n",
       "dtype: int64"
      ]
     },
     "execution_count": 5,
     "metadata": {},
     "output_type": "execute_result"
    }
   ],
   "source": [
    "#First find if there's any null values in df\n",
    "df.count()"
   ]
  },
  {
   "cell_type": "code",
   "execution_count": 6,
   "metadata": {},
   "outputs": [
    {
     "name": "stdout",
     "output_type": "stream",
     "text": [
      "(36, 5)\n",
      "                                rank  \\\n",
      "10553  No records in 76 - 100 range.   \n",
      "11478   No records in 51 - 75 range.   \n",
      "11479  No records in 76 - 100 range.   \n",
      "11879           No records in range.   \n",
      "14364   No records in 51 - 75 range.   \n",
      "14365  No records in 76 - 100 range.   \n",
      "17032  No records in 76 - 100 range.   \n",
      "17556   No records in 51 - 75 range.   \n",
      "17557  No records in 76 - 100 range.   \n",
      "17614  No records in 76 - 100 range.   \n",
      "17767  No records in 76 - 100 range.   \n",
      "18246  No records in 76 - 100 range.   \n",
      "18304  No records in 76 - 100 range.   \n",
      "18378  No records in 76 - 100 range.   \n",
      "19390   No records in 51 - 75 range.   \n",
      "19391  No records in 76 - 100 range.   \n",
      "21910   No records in 51 - 75 range.   \n",
      "21911  No records in 76 - 100 range.   \n",
      "24578  No records in 76 - 100 range.   \n",
      "25102   No records in 51 - 75 range.   \n",
      "25103  No records in 76 - 100 range.   \n",
      "25160  No records in 76 - 100 range.   \n",
      "25313  No records in 76 - 100 range.   \n",
      "25792  No records in 76 - 100 range.   \n",
      "25850  No records in 76 - 100 range.   \n",
      "25924  No records in 76 - 100 range.   \n",
      "27018   No records in 51 - 75 range.   \n",
      "27019  No records in 76 - 100 range.   \n",
      "29686  No records in 76 - 100 range.   \n",
      "30210   No records in 51 - 75 range.   \n",
      "30211  No records in 76 - 100 range.   \n",
      "30268  No records in 76 - 100 range.   \n",
      "30421  No records in 76 - 100 range.   \n",
      "30900  No records in 76 - 100 range.   \n",
      "30958  No records in 76 - 100 range.   \n",
      "31032  No records in 76 - 100 range.   \n",
      "\n",
      "                                                 sponsor num_of_lca  \\\n",
      "10553  Healthcare Practitioners and Technical Workers...        NaN   \n",
      "11478     Airline Pilots, Copilots, and Flight Engineers        NaN   \n",
      "11479     Airline Pilots, Copilots, and Flight Engineers        NaN   \n",
      "11879                       Speech-Language Pathologists        NaN   \n",
      "14364  Health Diagnosing and Treating Practitioners, ...        NaN   \n",
      "14365  Health Diagnosing and Treating Practitioners, ...        NaN   \n",
      "17032                                        Geneticists        NaN   \n",
      "17556                   Atmospheric and Space Scientists        NaN   \n",
      "17557                   Atmospheric and Space Scientists        NaN   \n",
      "17614                         Financial Risk Specialists        NaN   \n",
      "17767                                        Astronomers        NaN   \n",
      "18246       Special Education Teachers, Secondary School        NaN   \n",
      "18304      Agricultural Sciences Teachers, Postsecondary        NaN   \n",
      "18378                             Exercise Physiologists        NaN   \n",
      "19390  Health Diagnosing and Treating Practitioners, ...        NaN   \n",
      "19391  Health Diagnosing and Treating Practitioners, ...        NaN   \n",
      "21910  Health Diagnosing and Treating Practitioners, ...        NaN   \n",
      "21911  Health Diagnosing and Treating Practitioners, ...        NaN   \n",
      "24578                                        Geneticists        NaN   \n",
      "25102                   Atmospheric and Space Scientists        NaN   \n",
      "25103                   Atmospheric and Space Scientists        NaN   \n",
      "25160                         Financial Risk Specialists        NaN   \n",
      "25313                                        Astronomers        NaN   \n",
      "25792       Special Education Teachers, Secondary School        NaN   \n",
      "25850      Agricultural Sciences Teachers, Postsecondary        NaN   \n",
      "25924                             Exercise Physiologists        NaN   \n",
      "27018  Health Diagnosing and Treating Practitioners, ...        NaN   \n",
      "27019  Health Diagnosing and Treating Practitioners, ...        NaN   \n",
      "29686                                        Geneticists        NaN   \n",
      "30210                   Atmospheric and Space Scientists        NaN   \n",
      "30211                   Atmospheric and Space Scientists        NaN   \n",
      "30268                         Financial Risk Specialists        NaN   \n",
      "30421                                        Astronomers        NaN   \n",
      "30900       Special Education Teachers, Secondary School        NaN   \n",
      "30958      Agricultural Sciences Teachers, Postsecondary        NaN   \n",
      "31032                             Exercise Physiologists        NaN   \n",
      "\n",
      "      avg_salary occupation  \n",
      "10553        NaN        NaN  \n",
      "11478        NaN        NaN  \n",
      "11479        NaN        NaN  \n",
      "11879        NaN        NaN  \n",
      "14364        NaN        NaN  \n",
      "14365        NaN        NaN  \n",
      "17032        NaN        NaN  \n",
      "17556        NaN        NaN  \n",
      "17557        NaN        NaN  \n",
      "17614        NaN        NaN  \n",
      "17767        NaN        NaN  \n",
      "18246        NaN        NaN  \n",
      "18304        NaN        NaN  \n",
      "18378        NaN        NaN  \n",
      "19390        NaN        NaN  \n",
      "19391        NaN        NaN  \n",
      "21910        NaN        NaN  \n",
      "21911        NaN        NaN  \n",
      "24578        NaN        NaN  \n",
      "25102        NaN        NaN  \n",
      "25103        NaN        NaN  \n",
      "25160        NaN        NaN  \n",
      "25313        NaN        NaN  \n",
      "25792        NaN        NaN  \n",
      "25850        NaN        NaN  \n",
      "25924        NaN        NaN  \n",
      "27018        NaN        NaN  \n",
      "27019        NaN        NaN  \n",
      "29686        NaN        NaN  \n",
      "30210        NaN        NaN  \n",
      "30211        NaN        NaN  \n",
      "30268        NaN        NaN  \n",
      "30421        NaN        NaN  \n",
      "30900        NaN        NaN  \n",
      "30958        NaN        NaN  \n",
      "31032        NaN        NaN  \n"
     ]
    }
   ],
   "source": [
    "#It is shown that avg_salary and occupation has null values, or total of 36 null values\n",
    "#Below is the preview of rows that have null values\n",
    "null = df[df.isna().any(axis=1)].shape\n",
    "null_row = df[df.isna().any(axis=1)]\n",
    "print(null)\n",
    "print(null_row)"
   ]
  },
  {
   "cell_type": "code",
   "execution_count": 7,
   "metadata": {},
   "outputs": [
    {
     "name": "stdout",
     "output_type": "stream",
     "text": [
      "(0, 5)\n"
     ]
    }
   ],
   "source": [
    "#Drop the rows that has null values and check if there's any null left\n",
    "df_c = df.dropna()\n",
    "null = df_c[df_c.isna().any(axis=1)].shape\n",
    "print(null)"
   ]
  },
  {
   "cell_type": "code",
   "execution_count": 8,
   "metadata": {},
   "outputs": [
    {
     "name": "stdout",
     "output_type": "stream",
     "text": [
      "(5098, 6)\n"
     ]
    }
   ],
   "source": [
    "#Check for any duplicate values method 1\n",
    "duplicate = df_c.groupby(df_c.columns.to_list()).size().reset_index(name='Count')\n",
    "duplicate = duplicate[duplicate['Count'] > 1]\n",
    "print(duplicate.shape)"
   ]
  },
  {
   "cell_type": "markdown",
   "metadata": {},
   "source": [
    "There are 5098 unique rows that have duplicate values"
   ]
  },
  {
   "cell_type": "code",
   "execution_count": 9,
   "metadata": {},
   "outputs": [
    {
     "name": "stdout",
     "output_type": "stream",
     "text": [
      "(12632, 5)\n"
     ]
    }
   ],
   "source": [
    "#Check for any duplicate values method 2\n",
    "duplicate = df_c[df_c.duplicated()].shape\n",
    "print(duplicate)"
   ]
  },
  {
   "cell_type": "markdown",
   "metadata": {},
   "source": [
    "There are total of 12632 rows that are duplicate"
   ]
  },
  {
   "cell_type": "code",
   "execution_count": 10,
   "metadata": {},
   "outputs": [
    {
     "name": "stdout",
     "output_type": "stream",
     "text": [
      "(0, 5)\n"
     ]
    }
   ],
   "source": [
    "#Drop any duplicate values\n",
    "df_c = df_c.drop_duplicates()\n",
    "df_c = df_c.drop(df_c[df_c['occupation'] == 'Software Developers'].index)\n",
    "duplicate = df_c[df_c.duplicated()].shape\n",
    "print(duplicate)"
   ]
  },
  {
   "cell_type": "code",
   "execution_count": 11,
   "metadata": {},
   "outputs": [
    {
     "name": "stdout",
     "output_type": "stream",
     "text": [
      "<class 'pandas.core.frame.DataFrame'>\n",
      "Index: 18347 entries, 0 to 26006\n",
      "Data columns (total 5 columns):\n",
      " #   Column      Non-Null Count  Dtype \n",
      "---  ------      --------------  ----- \n",
      " 0   rank        18347 non-null  object\n",
      " 1   sponsor     18347 non-null  object\n",
      " 2   num_of_lca  18347 non-null  object\n",
      " 3   avg_salary  18347 non-null  object\n",
      " 4   occupation  18347 non-null  object\n",
      "dtypes: object(5)\n",
      "memory usage: 860.0+ KB\n"
     ]
    },
    {
     "data": {
      "text/html": [
       "<div>\n",
       "<style scoped>\n",
       "    .dataframe tbody tr th:only-of-type {\n",
       "        vertical-align: middle;\n",
       "    }\n",
       "\n",
       "    .dataframe tbody tr th {\n",
       "        vertical-align: top;\n",
       "    }\n",
       "\n",
       "    .dataframe thead th {\n",
       "        text-align: right;\n",
       "    }\n",
       "</style>\n",
       "<table border=\"1\" class=\"dataframe\">\n",
       "  <thead>\n",
       "    <tr style=\"text-align: right;\">\n",
       "      <th></th>\n",
       "      <th>rank</th>\n",
       "      <th>sponsor</th>\n",
       "      <th>num_of_lca</th>\n",
       "      <th>avg_salary</th>\n",
       "      <th>occupation</th>\n",
       "    </tr>\n",
       "  </thead>\n",
       "  <tbody>\n",
       "    <tr>\n",
       "      <th>0</th>\n",
       "      <td>1</td>\n",
       "      <td>Google</td>\n",
       "      <td>7,419</td>\n",
       "      <td>$162,039</td>\n",
       "      <td>Software Developers, Applications</td>\n",
       "    </tr>\n",
       "    <tr>\n",
       "      <th>1</th>\n",
       "      <td>2</td>\n",
       "      <td>Microsoft</td>\n",
       "      <td>5,874</td>\n",
       "      <td>$151,207</td>\n",
       "      <td>Software Developers, Applications</td>\n",
       "    </tr>\n",
       "    <tr>\n",
       "      <th>2</th>\n",
       "      <td>3</td>\n",
       "      <td>Amazon,Com Services</td>\n",
       "      <td>4,256</td>\n",
       "      <td>$139,359</td>\n",
       "      <td>Software Developers, Applications</td>\n",
       "    </tr>\n",
       "    <tr>\n",
       "      <th>3</th>\n",
       "      <td>4</td>\n",
       "      <td>Meta Platforms</td>\n",
       "      <td>2,070</td>\n",
       "      <td>$183,224</td>\n",
       "      <td>Software Developers, Applications</td>\n",
       "    </tr>\n",
       "    <tr>\n",
       "      <th>4</th>\n",
       "      <td>5</td>\n",
       "      <td>Capgemini</td>\n",
       "      <td>2,006</td>\n",
       "      <td>$111,473</td>\n",
       "      <td>Software Developers, Applications</td>\n",
       "    </tr>\n",
       "  </tbody>\n",
       "</table>\n",
       "</div>"
      ],
      "text/plain": [
       "  rank              sponsor num_of_lca avg_salary  \\\n",
       "0    1               Google      7,419  $162,039    \n",
       "1    2            Microsoft      5,874  $151,207    \n",
       "2    3  Amazon,Com Services      4,256  $139,359    \n",
       "3    4       Meta Platforms      2,070  $183,224    \n",
       "4    5            Capgemini      2,006  $111,473    \n",
       "\n",
       "                          occupation  \n",
       "0  Software Developers, Applications  \n",
       "1  Software Developers, Applications  \n",
       "2  Software Developers, Applications  \n",
       "3  Software Developers, Applications  \n",
       "4  Software Developers, Applications  "
      ]
     },
     "execution_count": 11,
     "metadata": {},
     "output_type": "execute_result"
    }
   ],
   "source": [
    "#Convert data into its proper typing\n",
    "#First check the data type for each column\n",
    "df_c.info()\n",
    "df_c.head()"
   ]
  },
  {
   "cell_type": "code",
   "execution_count": 12,
   "metadata": {},
   "outputs": [
    {
     "name": "stdout",
     "output_type": "stream",
     "text": [
      "<class 'pandas.core.frame.DataFrame'>\n",
      "Index: 18347 entries, 0 to 26006\n",
      "Data columns (total 5 columns):\n",
      " #   Column      Non-Null Count  Dtype \n",
      "---  ------      --------------  ----- \n",
      " 0   rank        18347 non-null  object\n",
      " 1   sponsor     18347 non-null  object\n",
      " 2   num_of_lca  18347 non-null  object\n",
      " 3   avg_salary  18347 non-null  object\n",
      " 4   occupation  18347 non-null  object\n",
      "dtypes: object(5)\n",
      "memory usage: 860.0+ KB\n"
     ]
    }
   ],
   "source": [
    "#Notice that num_of_lca has comma (',') and avg_salary has dollar sign ($) and comma (',')\n",
    "#To clean up the data, convert all columns into string\n",
    "column_to_string = ['sponsor', 'num_of_lca', 'avg_salary', 'occupation']\n",
    "df_c.loc[:,column_to_string] = df_c.loc[:,column_to_string].astype('string')\n",
    "df_c.info()"
   ]
  },
  {
   "cell_type": "code",
   "execution_count": 13,
   "metadata": {},
   "outputs": [
    {
     "data": {
      "text/html": [
       "<div>\n",
       "<style scoped>\n",
       "    .dataframe tbody tr th:only-of-type {\n",
       "        vertical-align: middle;\n",
       "    }\n",
       "\n",
       "    .dataframe tbody tr th {\n",
       "        vertical-align: top;\n",
       "    }\n",
       "\n",
       "    .dataframe thead th {\n",
       "        text-align: right;\n",
       "    }\n",
       "</style>\n",
       "<table border=\"1\" class=\"dataframe\">\n",
       "  <thead>\n",
       "    <tr style=\"text-align: right;\">\n",
       "      <th></th>\n",
       "      <th>rank</th>\n",
       "      <th>sponsor</th>\n",
       "      <th>num_of_lca</th>\n",
       "      <th>avg_salary</th>\n",
       "      <th>occupation</th>\n",
       "    </tr>\n",
       "  </thead>\n",
       "  <tbody>\n",
       "    <tr>\n",
       "      <th>0</th>\n",
       "      <td>1</td>\n",
       "      <td>Google</td>\n",
       "      <td>7419</td>\n",
       "      <td>162039</td>\n",
       "      <td>Software Developers, Applications</td>\n",
       "    </tr>\n",
       "    <tr>\n",
       "      <th>1</th>\n",
       "      <td>2</td>\n",
       "      <td>Microsoft</td>\n",
       "      <td>5874</td>\n",
       "      <td>151207</td>\n",
       "      <td>Software Developers, Applications</td>\n",
       "    </tr>\n",
       "    <tr>\n",
       "      <th>2</th>\n",
       "      <td>3</td>\n",
       "      <td>Amazon,Com Services</td>\n",
       "      <td>4256</td>\n",
       "      <td>139359</td>\n",
       "      <td>Software Developers, Applications</td>\n",
       "    </tr>\n",
       "    <tr>\n",
       "      <th>3</th>\n",
       "      <td>4</td>\n",
       "      <td>Meta Platforms</td>\n",
       "      <td>2070</td>\n",
       "      <td>183224</td>\n",
       "      <td>Software Developers, Applications</td>\n",
       "    </tr>\n",
       "    <tr>\n",
       "      <th>4</th>\n",
       "      <td>5</td>\n",
       "      <td>Capgemini</td>\n",
       "      <td>2006</td>\n",
       "      <td>111473</td>\n",
       "      <td>Software Developers, Applications</td>\n",
       "    </tr>\n",
       "  </tbody>\n",
       "</table>\n",
       "</div>"
      ],
      "text/plain": [
       "  rank              sponsor num_of_lca avg_salary  \\\n",
       "0    1               Google       7419    162039    \n",
       "1    2            Microsoft       5874    151207    \n",
       "2    3  Amazon,Com Services       4256    139359    \n",
       "3    4       Meta Platforms       2070    183224    \n",
       "4    5            Capgemini       2006    111473    \n",
       "\n",
       "                          occupation  \n",
       "0  Software Developers, Applications  \n",
       "1  Software Developers, Applications  \n",
       "2  Software Developers, Applications  \n",
       "3  Software Developers, Applications  \n",
       "4  Software Developers, Applications  "
      ]
     },
     "execution_count": 13,
     "metadata": {},
     "output_type": "execute_result"
    }
   ],
   "source": [
    "#Manipulate data to delete comma and dollar sign from\n",
    "df_c.loc[:,'num_of_lca'] = df_c.loc[:,'num_of_lca'].str.replace(',', '')\n",
    "df_c.loc[:,'avg_salary'] = df_c.loc[:,'avg_salary'].str.replace('[$,]', '', regex=True) \n",
    "df_c.head()"
   ]
  },
  {
   "cell_type": "code",
   "execution_count": 14,
   "metadata": {},
   "outputs": [
    {
     "name": "stdout",
     "output_type": "stream",
     "text": [
      "<class 'pandas.core.frame.DataFrame'>\n",
      "Index: 18347 entries, 0 to 26006\n",
      "Data columns (total 5 columns):\n",
      " #   Column      Non-Null Count  Dtype \n",
      "---  ------      --------------  ----- \n",
      " 0   rank        18347 non-null  object\n",
      " 1   sponsor     18347 non-null  object\n",
      " 2   num_of_lca  18347 non-null  object\n",
      " 3   avg_salary  18347 non-null  object\n",
      " 4   occupation  18347 non-null  object\n",
      "dtypes: object(5)\n",
      "memory usage: 860.0+ KB\n"
     ]
    }
   ],
   "source": [
    "#Convert num_of_lca to int and avg_salary to float\n",
    "column_to_int = 'num_of_lca'\n",
    "column_to_float = 'avg_salary'\n",
    "\n",
    "df_c.loc[:,column_to_int] = df_c.loc[:,column_to_int].astype(int)\n",
    "df_c.loc[:,column_to_float] = df_c.loc[:,column_to_float].astype(float)\n",
    "df_c.info()"
   ]
  },
  {
   "cell_type": "markdown",
   "metadata": {},
   "source": [
    "**Analysis**"
   ]
  },
  {
   "cell_type": "code",
   "execution_count": 15,
   "metadata": {},
   "outputs": [
    {
     "data": {
      "text/html": [
       "<div>\n",
       "<style scoped>\n",
       "    .dataframe tbody tr th:only-of-type {\n",
       "        vertical-align: middle;\n",
       "    }\n",
       "\n",
       "    .dataframe tbody tr th {\n",
       "        vertical-align: top;\n",
       "    }\n",
       "\n",
       "    .dataframe thead th {\n",
       "        text-align: right;\n",
       "    }\n",
       "</style>\n",
       "<table border=\"1\" class=\"dataframe\">\n",
       "  <thead>\n",
       "    <tr style=\"text-align: right;\">\n",
       "      <th></th>\n",
       "      <th>rank</th>\n",
       "      <th>sponsor</th>\n",
       "      <th>num_of_lca</th>\n",
       "      <th>avg_salary</th>\n",
       "      <th>occupation</th>\n",
       "    </tr>\n",
       "  </thead>\n",
       "  <tbody>\n",
       "    <tr>\n",
       "      <th>count</th>\n",
       "      <td>18347</td>\n",
       "      <td>18347</td>\n",
       "      <td>18347</td>\n",
       "      <td>18347.0</td>\n",
       "      <td>18347</td>\n",
       "    </tr>\n",
       "    <tr>\n",
       "      <th>unique</th>\n",
       "      <td>100</td>\n",
       "      <td>9318</td>\n",
       "      <td>377</td>\n",
       "      <td>12622.0</td>\n",
       "      <td>193</td>\n",
       "    </tr>\n",
       "    <tr>\n",
       "      <th>top</th>\n",
       "      <td>27</td>\n",
       "      <td>Amazon,Com Services</td>\n",
       "      <td>1</td>\n",
       "      <td>120000.0</td>\n",
       "      <td>Software Developers, Applications</td>\n",
       "    </tr>\n",
       "    <tr>\n",
       "      <th>freq</th>\n",
       "      <td>201</td>\n",
       "      <td>84</td>\n",
       "      <td>4741</td>\n",
       "      <td>123.0</td>\n",
       "      <td>100</td>\n",
       "    </tr>\n",
       "  </tbody>\n",
       "</table>\n",
       "</div>"
      ],
      "text/plain": [
       "         rank              sponsor  num_of_lca  avg_salary  \\\n",
       "count   18347                18347       18347     18347.0   \n",
       "unique    100                 9318         377     12622.0   \n",
       "top        27  Amazon,Com Services           1    120000.0   \n",
       "freq      201                   84        4741       123.0   \n",
       "\n",
       "                               occupation  \n",
       "count                               18347  \n",
       "unique                                193  \n",
       "top     Software Developers, Applications  \n",
       "freq                                  100  "
      ]
     },
     "execution_count": 15,
     "metadata": {},
     "output_type": "execute_result"
    }
   ],
   "source": [
    "#Statistical summary of the cleaned data \n",
    "df_c.describe()"
   ]
  },
  {
   "cell_type": "code",
   "execution_count": 16,
   "metadata": {},
   "outputs": [
    {
     "data": {
      "text/html": [
       "<div>\n",
       "<style scoped>\n",
       "    .dataframe tbody tr th:only-of-type {\n",
       "        vertical-align: middle;\n",
       "    }\n",
       "\n",
       "    .dataframe tbody tr th {\n",
       "        vertical-align: top;\n",
       "    }\n",
       "\n",
       "    .dataframe thead th {\n",
       "        text-align: right;\n",
       "    }\n",
       "</style>\n",
       "<table border=\"1\" class=\"dataframe\">\n",
       "  <thead>\n",
       "    <tr style=\"text-align: right;\">\n",
       "      <th></th>\n",
       "      <th>rank</th>\n",
       "      <th>sponsor</th>\n",
       "      <th>num_of_lca</th>\n",
       "      <th>avg_salary</th>\n",
       "      <th>occupation</th>\n",
       "    </tr>\n",
       "  </thead>\n",
       "  <tbody>\n",
       "    <tr>\n",
       "      <th>8410</th>\n",
       "      <td>20</td>\n",
       "      <td>Hunter Douglas</td>\n",
       "      <td>2</td>\n",
       "      <td>978500.0</td>\n",
       "      <td>Chief Executives</td>\n",
       "    </tr>\n",
       "    <tr>\n",
       "      <th>13498</th>\n",
       "      <td>48</td>\n",
       "      <td>African Discovery Group</td>\n",
       "      <td>1</td>\n",
       "      <td>960000.0</td>\n",
       "      <td>Financial Specialists, All Other</td>\n",
       "    </tr>\n",
       "    <tr>\n",
       "      <th>15499</th>\n",
       "      <td>14</td>\n",
       "      <td>Umc Physicians</td>\n",
       "      <td>2</td>\n",
       "      <td>879500.0</td>\n",
       "      <td>Surgeons</td>\n",
       "    </tr>\n",
       "    <tr>\n",
       "      <th>15523</th>\n",
       "      <td>38</td>\n",
       "      <td>University Surgical Associates</td>\n",
       "      <td>1</td>\n",
       "      <td>831000.0</td>\n",
       "      <td>Surgeons</td>\n",
       "    </tr>\n",
       "    <tr>\n",
       "      <th>15524</th>\n",
       "      <td>39</td>\n",
       "      <td>The Duluth Clinic,</td>\n",
       "      <td>1</td>\n",
       "      <td>800000.0</td>\n",
       "      <td>Surgeons</td>\n",
       "    </tr>\n",
       "    <tr>\n",
       "      <th>7157</th>\n",
       "      <td>62</td>\n",
       "      <td>Addition Corp</td>\n",
       "      <td>2</td>\n",
       "      <td>750000.0</td>\n",
       "      <td>Financial and Investment Analysts</td>\n",
       "    </tr>\n",
       "    <tr>\n",
       "      <th>10383</th>\n",
       "      <td>93</td>\n",
       "      <td>Community Physicians Group</td>\n",
       "      <td>1</td>\n",
       "      <td>744000.0</td>\n",
       "      <td>Physicians, All Other</td>\n",
       "    </tr>\n",
       "    <tr>\n",
       "      <th>4598</th>\n",
       "      <td>99</td>\n",
       "      <td>Vr Strategy Consultants</td>\n",
       "      <td>2</td>\n",
       "      <td>700000.0</td>\n",
       "      <td>Financial Managers</td>\n",
       "    </tr>\n",
       "    <tr>\n",
       "      <th>17272</th>\n",
       "      <td>39</td>\n",
       "      <td>Mississippi Baptist Medical Center</td>\n",
       "      <td>1</td>\n",
       "      <td>700000.0</td>\n",
       "      <td>Radiologists</td>\n",
       "    </tr>\n",
       "    <tr>\n",
       "      <th>17271</th>\n",
       "      <td>39</td>\n",
       "      <td>Medical Foundation Of Cental Mississippi</td>\n",
       "      <td>1</td>\n",
       "      <td>700000.0</td>\n",
       "      <td>Radiologists</td>\n",
       "    </tr>\n",
       "  </tbody>\n",
       "</table>\n",
       "</div>"
      ],
      "text/plain": [
       "      rank                                   sponsor num_of_lca avg_salary  \\\n",
       "8410    20                            Hunter Douglas          2   978500.0   \n",
       "13498   48                   African Discovery Group          1   960000.0   \n",
       "15499   14                            Umc Physicians          2   879500.0   \n",
       "15523   38            University Surgical Associates          1   831000.0   \n",
       "15524   39                        The Duluth Clinic,          1   800000.0   \n",
       "7157    62                             Addition Corp          2   750000.0   \n",
       "10383   93                Community Physicians Group          1   744000.0   \n",
       "4598    99                   Vr Strategy Consultants          2   700000.0   \n",
       "17272   39        Mississippi Baptist Medical Center          1   700000.0   \n",
       "17271   39  Medical Foundation Of Cental Mississippi          1   700000.0   \n",
       "\n",
       "                              occupation  \n",
       "8410                    Chief Executives  \n",
       "13498   Financial Specialists, All Other  \n",
       "15499                           Surgeons  \n",
       "15523                           Surgeons  \n",
       "15524                           Surgeons  \n",
       "7157   Financial and Investment Analysts  \n",
       "10383              Physicians, All Other  \n",
       "4598                  Financial Managers  \n",
       "17272                       Radiologists  \n",
       "17271                       Radiologists  "
      ]
     },
     "execution_count": 16,
     "metadata": {},
     "output_type": "execute_result"
    }
   ],
   "source": [
    "df_c.sort_values(by=['avg_salary'],ascending=False).head(10)"
   ]
  },
  {
   "cell_type": "code",
   "execution_count": 17,
   "metadata": {},
   "outputs": [
    {
     "data": {
      "image/png": "[encoded data removed]",
      "text/plain": [
       "<Figure size 800x600 with 1 Axes>"
      ]
     },
     "metadata": {},
     "output_type": "display_data"
    }
   ],
   "source": [
    "#Distribution of H1B sponsored salary\n",
    "num_bins = 100\n",
    "avg_salary = df_c.loc[:,'avg_salary']\n",
    "\n",
    "plt.figure(figsize=(8,6))\n",
    "plt.hist(avg_salary, num_bins)\n",
    "mean = np.mean(avg_salary)\n",
    "median = np.median(avg_salary)\n",
    "plt.axvline(mean, color = 'red', linestyle = 'dashed', linewidth = 1)\n",
    "plt.axvline(median, color = 'black', linestyle = 'dashed', linewidth = 1)\n",
    "plt.text(mean, 1710, f'Mean: {mean/1000000:.2f}', color='red')\n",
    "plt.text(median-145000, 1710, f'Median: {median/1000000:.2f}', color='black')\n",
    "\n",
    "plt.ylabel('Frequency')\n",
    "plt.xlabel('Salary in Millions')\n",
    "plt.title('Distribution of Average Sales', y=1.03)\n",
    "plt.show()"
   ]
  },
  {
   "cell_type": "code",
   "execution_count": 18,
   "metadata": {},
   "outputs": [
    {
     "data": {
      "image/png": "[encoded data removed]",
      "text/plain": [
       "<Figure size 1000x600 with 1 Axes>"
      ]
     },
     "metadata": {},
     "output_type": "display_data"
    }
   ],
   "source": [
    "#Top 10 salary based on occupation\n",
    "occ = df_c.groupby(['occupation'])['avg_salary'].mean().sort_values(ascending=False).head(10)\n",
    "plt.figure(figsize=(10,6))\n",
    "ax = occ.plot(kind='bar')\n",
    "plt.xticks(rotation=45, ha='right')  # Rotate the occupation names for better readability\n",
    "plt.ylabel('Average Salary')\n",
    "plt.xlabel('Occupation')\n",
    "plt.title('Top 10 Average Salary Based On Occupation')\n",
    "for i, v in enumerate(occ):\n",
    "    ax.text(i, v, str(round(v)), ha='center', va='bottom', fontsize=9)"
   ]
  },
  {
   "cell_type": "code",
   "execution_count": 19,
   "metadata": {},
   "outputs": [
    {
     "data": {
      "image/png": "[encoded data removed]",
      "text/plain": [
       "<Figure size 800x600 with 1 Axes>"
      ]
     },
     "metadata": {},
     "output_type": "display_data"
    }
   ],
   "source": [
    "#Companies who sponsors the most in 2023\n",
    "\n",
    "grouped_spon = df_c.groupby('sponsor')['num_of_lca'].sum().sort_values(ascending=False).head(10)\n",
    "\n",
    "plt.figure(figsize=(8,6))\n",
    "ax = grouped_spon.plot(kind='bar')\n",
    "plt.title('Companies Who Sponsor H1B the Most in 2023')\n",
    "plt.xlabel('Occupation')\n",
    "plt.ylabel('Number of Applicants')\n",
    "plt.xticks(rotation=45, ha='right')\n",
    "\n",
    "for i, v in enumerate(grouped_spon):\n",
    "    ax.text(i, v, str(round(v)), ha='center', va='bottom', fontsize=9)"
   ]
  },
  {
   "cell_type": "code",
   "execution_count": 20,
   "metadata": {},
   "outputs": [
    {
     "data": {
      "image/png": "[encoded data removed]",
      "text/plain": [
       "<Figure size 1000x600 with 1 Axes>"
      ]
     },
     "metadata": {},
     "output_type": "display_data"
    }
   ],
   "source": [
    "#Top 10 average salary by profession ordered by number of LCA\n",
    "\n",
    "grouped_lca = df_c.groupby('occupation').agg({'avg_salary':'mean', 'num_of_lca':'sum'})\n",
    "grouped_lca = grouped_lca.sort_values('num_of_lca', ascending=False).head(5)\n",
    "\n",
    "plt.figure(figsize=(10,6))\n",
    "ax = grouped_lca['avg_salary'].plot(kind='bar')\n",
    "plt.xticks(rotation=45, ha='right')\n",
    "plt.title('Average Salary of Top 10 Occupation based on the Number of Applicants in 2023')\n",
    "plt.xlabel('Occupation')\n",
    "plt.ylabel('Salary')\n",
    "\n",
    "for i, v in enumerate(grouped_lca['avg_salary']):\n",
    "    ax.text(i, v, str(round(v)), ha='center', va='bottom', fontsize=9)\n",
    "plt.show()"
   ]
  },
  {
   "cell_type": "markdown",
   "metadata": {},
   "source": [
    "**Data Cleaning for df1 (Workstate)**"
   ]
  },
  {
   "cell_type": "code",
   "execution_count": 21,
   "metadata": {},
   "outputs": [
    {
     "data": {
      "text/plain": [
       "rank          18973\n",
       "sponsor       18973\n",
       "num_of_lca    18968\n",
       "avg_salary    18968\n",
       "work_state    18968\n",
       "dtype: int64"
      ]
     },
     "execution_count": 21,
     "metadata": {},
     "output_type": "execute_result"
    }
   ],
   "source": [
    "#First find if there's any null values in df1\n",
    "df1.count()"
   ]
  },
  {
   "cell_type": "code",
   "execution_count": 22,
   "metadata": {},
   "outputs": [
    {
     "name": "stdout",
     "output_type": "stream",
     "text": [
      "(5, 5)                                 rank        sponsor num_of_lca avg_salary  \\\n",
      "12229   No records in 51 - 75 range.  San Bruno, CA        NaN        NaN   \n",
      "12230   No records in 51 - 75 range.  San Bruno, CA        NaN        NaN   \n",
      "15089  No records in 76 - 100 range.   La Jolla, CA        NaN        NaN   \n",
      "18871   No records in 51 - 75 range.  Rochester, MN        NaN        NaN   \n",
      "18872  No records in 76 - 100 range.  Rochester, MN        NaN        NaN   \n",
      "\n",
      "      work_state  \n",
      "12229        NaN  \n",
      "12230        NaN  \n",
      "15089        NaN  \n",
      "18871        NaN  \n",
      "18872        NaN  \n"
     ]
    }
   ],
   "source": [
    "null1 = df1[df1.isna().any(axis=1)].shape\n",
    "null1_row = df1[df1.isna().any(axis=1)]\n",
    "print(null1, null1_row)"
   ]
  },
  {
   "cell_type": "code",
   "execution_count": 23,
   "metadata": {},
   "outputs": [
    {
     "name": "stdout",
     "output_type": "stream",
     "text": [
      "(0, 5)\n"
     ]
    }
   ],
   "source": [
    "df1_c = df1.dropna()\n",
    "null1 = df1_c[df1_c.isna().any(axis=1)].shape\n",
    "print(null1)"
   ]
  },
  {
   "cell_type": "code",
   "execution_count": 24,
   "metadata": {},
   "outputs": [
    {
     "name": "stdout",
     "output_type": "stream",
     "text": [
      "      rank                          sponsor num_of_lca avg_salary  \\\n",
      "3798    26                    Orbit Systems          1  $122,000    \n",
      "3940    27   International Software Systems          1  $114,400    \n",
      "4096    28            Eversoft Technologies          1  $114,067    \n",
      "4371    29                            Quber          1   $99,840    \n",
      "4672    30                   Exlservice.com          1   $95,970    \n",
      "...    ...                              ...        ...        ...   \n",
      "13527   73                         Aspyrant          1   $91,000    \n",
      "13707   74              APLOMB Technologies          1   $80,001    \n",
      "13728   74  Boyd Watterson Asset Management          2   $80,000    \n",
      "13949   75  Fives North American Combustion          2   $76,882    \n",
      "13976   75                           Itstac          1   $80,000    \n",
      "\n",
      "           work_state  Count  \n",
      "3798   Riverwoods, IL      3  \n",
      "3940   Riverwoods, IL      3  \n",
      "4096   Riverwoods, IL      3  \n",
      "4371   Riverwoods, IL      3  \n",
      "4672   Riverwoods, IL      3  \n",
      "...               ...    ...  \n",
      "13527    Whippany, NJ      2  \n",
      "13707    Whippany, NJ      2  \n",
      "13728   Cleveland, OH      2  \n",
      "13949   Cleveland, OH      2  \n",
      "13976    Whippany, NJ      2  \n",
      "\n",
      "[61 rows x 6 columns]\n"
     ]
    }
   ],
   "source": [
    "duplicate = df1_c.groupby(df1_c.columns.to_list()).size().reset_index(name='Count')\n",
    "duplicate = duplicate[duplicate['Count'] > 1]\n",
    "print(duplicate)\n"
   ]
  },
  {
   "cell_type": "code",
   "execution_count": 25,
   "metadata": {},
   "outputs": [
    {
     "data": {
      "text/plain": [
       "(0, 5)"
      ]
     },
     "execution_count": 25,
     "metadata": {},
     "output_type": "execute_result"
    }
   ],
   "source": [
    "df1_c = df1_c.drop_duplicates()\n",
    "df1_c[df1_c.duplicated()].shape"
   ]
  },
  {
   "cell_type": "code",
   "execution_count": 26,
   "metadata": {},
   "outputs": [],
   "source": [
    "df1_c['city'] = df1_c['work_state'].str.split(',').str[0].str.strip()\n",
    "df1_c['state'] = df1_c['work_state'].str.split(',').str[1].str.strip()\n",
    "df1_c = df1_c.drop('work_state', axis=1)"
   ]
  },
  {
   "cell_type": "code",
   "execution_count": 27,
   "metadata": {},
   "outputs": [
    {
     "data": {
      "text/html": [
       "<div>\n",
       "<style scoped>\n",
       "    .dataframe tbody tr th:only-of-type {\n",
       "        vertical-align: middle;\n",
       "    }\n",
       "\n",
       "    .dataframe tbody tr th {\n",
       "        vertical-align: top;\n",
       "    }\n",
       "\n",
       "    .dataframe thead th {\n",
       "        text-align: right;\n",
       "    }\n",
       "</style>\n",
       "<table border=\"1\" class=\"dataframe\">\n",
       "  <thead>\n",
       "    <tr style=\"text-align: right;\">\n",
       "      <th></th>\n",
       "      <th>rank</th>\n",
       "      <th>sponsor</th>\n",
       "      <th>num_of_lca</th>\n",
       "      <th>avg_salary</th>\n",
       "      <th>city</th>\n",
       "      <th>state</th>\n",
       "    </tr>\n",
       "  </thead>\n",
       "  <tbody>\n",
       "    <tr>\n",
       "      <th>0</th>\n",
       "      <td>1</td>\n",
       "      <td>Ernst Young</td>\n",
       "      <td>1,246</td>\n",
       "      <td>$135,821</td>\n",
       "      <td>New York</td>\n",
       "      <td>NY</td>\n",
       "    </tr>\n",
       "    <tr>\n",
       "      <th>1</th>\n",
       "      <td>2</td>\n",
       "      <td>Google</td>\n",
       "      <td>1,036</td>\n",
       "      <td>$169,638</td>\n",
       "      <td>New York</td>\n",
       "      <td>NY</td>\n",
       "    </tr>\n",
       "    <tr>\n",
       "      <th>2</th>\n",
       "      <td>3</td>\n",
       "      <td>Amazon,Com Services</td>\n",
       "      <td>929</td>\n",
       "      <td>$144,480</td>\n",
       "      <td>New York</td>\n",
       "      <td>NY</td>\n",
       "    </tr>\n",
       "    <tr>\n",
       "      <th>3</th>\n",
       "      <td>4</td>\n",
       "      <td>Goldman, Sachs</td>\n",
       "      <td>881</td>\n",
       "      <td>$163,499</td>\n",
       "      <td>New York</td>\n",
       "      <td>NY</td>\n",
       "    </tr>\n",
       "    <tr>\n",
       "      <th>4</th>\n",
       "      <td>5</td>\n",
       "      <td>Meta Platforms</td>\n",
       "      <td>567</td>\n",
       "      <td>$185,422</td>\n",
       "      <td>New York</td>\n",
       "      <td>NY</td>\n",
       "    </tr>\n",
       "    <tr>\n",
       "      <th>5</th>\n",
       "      <td>6</td>\n",
       "      <td>J P Morgan Chase &amp; Co</td>\n",
       "      <td>548</td>\n",
       "      <td>$167,639</td>\n",
       "      <td>New York</td>\n",
       "      <td>NY</td>\n",
       "    </tr>\n",
       "    <tr>\n",
       "      <th>6</th>\n",
       "      <td>7</td>\n",
       "      <td>Morgan Stanley Services Group</td>\n",
       "      <td>438</td>\n",
       "      <td>$154,729</td>\n",
       "      <td>New York</td>\n",
       "      <td>NY</td>\n",
       "    </tr>\n",
       "    <tr>\n",
       "      <th>7</th>\n",
       "      <td>8</td>\n",
       "      <td>Columbia University</td>\n",
       "      <td>435</td>\n",
       "      <td>$101,187</td>\n",
       "      <td>New York</td>\n",
       "      <td>NY</td>\n",
       "    </tr>\n",
       "    <tr>\n",
       "      <th>8</th>\n",
       "      <td>9</td>\n",
       "      <td>Citibank</td>\n",
       "      <td>395</td>\n",
       "      <td>$171,231</td>\n",
       "      <td>New York</td>\n",
       "      <td>NY</td>\n",
       "    </tr>\n",
       "    <tr>\n",
       "      <th>9</th>\n",
       "      <td>10</td>\n",
       "      <td>Bloomberg</td>\n",
       "      <td>369</td>\n",
       "      <td>$198,043</td>\n",
       "      <td>New York</td>\n",
       "      <td>NY</td>\n",
       "    </tr>\n",
       "  </tbody>\n",
       "</table>\n",
       "</div>"
      ],
      "text/plain": [
       "  rank                        sponsor num_of_lca avg_salary      city state\n",
       "0    1                    Ernst Young      1,246  $135,821   New York    NY\n",
       "1    2                         Google      1,036  $169,638   New York    NY\n",
       "2    3            Amazon,Com Services        929  $144,480   New York    NY\n",
       "3    4                 Goldman, Sachs        881  $163,499   New York    NY\n",
       "4    5                 Meta Platforms        567  $185,422   New York    NY\n",
       "5    6          J P Morgan Chase & Co        548  $167,639   New York    NY\n",
       "6    7  Morgan Stanley Services Group        438  $154,729   New York    NY\n",
       "7    8            Columbia University        435  $101,187   New York    NY\n",
       "8    9                       Citibank        395  $171,231   New York    NY\n",
       "9   10                      Bloomberg        369  $198,043   New York    NY"
      ]
     },
     "execution_count": 27,
     "metadata": {},
     "output_type": "execute_result"
    }
   ],
   "source": [
    "df1_c.head(10)"
   ]
  },
  {
   "cell_type": "code",
   "execution_count": 28,
   "metadata": {},
   "outputs": [],
   "source": [
    "column_to_string = ['sponsor', 'num_of_lca', 'avg_salary', 'city', 'state']\n",
    "df1_c.loc[:,column_to_string] = df1_c.loc[:,column_to_string].astype('string')"
   ]
  },
  {
   "cell_type": "code",
   "execution_count": 29,
   "metadata": {},
   "outputs": [
    {
     "name": "stdout",
     "output_type": "stream",
     "text": [
      "<class 'pandas.core.frame.DataFrame'>\n",
      "Index: 18894 entries, 0 to 18972\n",
      "Data columns (total 6 columns):\n",
      " #   Column      Non-Null Count  Dtype \n",
      "---  ------      --------------  ----- \n",
      " 0   rank        18894 non-null  object\n",
      " 1   sponsor     18894 non-null  object\n",
      " 2   num_of_lca  18894 non-null  object\n",
      " 3   avg_salary  18894 non-null  object\n",
      " 4   city        18894 non-null  object\n",
      " 5   state       18894 non-null  object\n",
      "dtypes: object(6)\n",
      "memory usage: 1.0+ MB\n"
     ]
    }
   ],
   "source": [
    "df1_c.info()"
   ]
  },
  {
   "cell_type": "code",
   "execution_count": 30,
   "metadata": {},
   "outputs": [
    {
     "data": {
      "text/html": [
       "<div>\n",
       "<style scoped>\n",
       "    .dataframe tbody tr th:only-of-type {\n",
       "        vertical-align: middle;\n",
       "    }\n",
       "\n",
       "    .dataframe tbody tr th {\n",
       "        vertical-align: top;\n",
       "    }\n",
       "\n",
       "    .dataframe thead th {\n",
       "        text-align: right;\n",
       "    }\n",
       "</style>\n",
       "<table border=\"1\" class=\"dataframe\">\n",
       "  <thead>\n",
       "    <tr style=\"text-align: right;\">\n",
       "      <th></th>\n",
       "      <th>rank</th>\n",
       "      <th>sponsor</th>\n",
       "      <th>num_of_lca</th>\n",
       "      <th>avg_salary</th>\n",
       "      <th>city</th>\n",
       "      <th>state</th>\n",
       "    </tr>\n",
       "  </thead>\n",
       "  <tbody>\n",
       "    <tr>\n",
       "      <th>0</th>\n",
       "      <td>1</td>\n",
       "      <td>Ernst Young</td>\n",
       "      <td>1246</td>\n",
       "      <td>135821</td>\n",
       "      <td>New York</td>\n",
       "      <td>NY</td>\n",
       "    </tr>\n",
       "    <tr>\n",
       "      <th>1</th>\n",
       "      <td>2</td>\n",
       "      <td>Google</td>\n",
       "      <td>1036</td>\n",
       "      <td>169638</td>\n",
       "      <td>New York</td>\n",
       "      <td>NY</td>\n",
       "    </tr>\n",
       "    <tr>\n",
       "      <th>2</th>\n",
       "      <td>3</td>\n",
       "      <td>Amazon,Com Services</td>\n",
       "      <td>929</td>\n",
       "      <td>144480</td>\n",
       "      <td>New York</td>\n",
       "      <td>NY</td>\n",
       "    </tr>\n",
       "    <tr>\n",
       "      <th>3</th>\n",
       "      <td>4</td>\n",
       "      <td>Goldman, Sachs</td>\n",
       "      <td>881</td>\n",
       "      <td>163499</td>\n",
       "      <td>New York</td>\n",
       "      <td>NY</td>\n",
       "    </tr>\n",
       "    <tr>\n",
       "      <th>4</th>\n",
       "      <td>5</td>\n",
       "      <td>Meta Platforms</td>\n",
       "      <td>567</td>\n",
       "      <td>185422</td>\n",
       "      <td>New York</td>\n",
       "      <td>NY</td>\n",
       "    </tr>\n",
       "  </tbody>\n",
       "</table>\n",
       "</div>"
      ],
      "text/plain": [
       "  rank              sponsor num_of_lca avg_salary      city state\n",
       "0    1          Ernst Young       1246    135821   New York    NY\n",
       "1    2               Google       1036    169638   New York    NY\n",
       "2    3  Amazon,Com Services        929    144480   New York    NY\n",
       "3    4       Goldman, Sachs        881    163499   New York    NY\n",
       "4    5       Meta Platforms        567    185422   New York    NY"
      ]
     },
     "execution_count": 30,
     "metadata": {},
     "output_type": "execute_result"
    }
   ],
   "source": [
    "#Manipulate data to delete comma and dollar sign from\n",
    "df1_c.loc[:,'num_of_lca'] = df1_c.loc[:,'num_of_lca'].str.replace(',', '')\n",
    "df1_c.loc[:,'avg_salary'] = df1_c.loc[:,'avg_salary'].str.replace('[$,]', '', regex=True) \n",
    "df1_c.head()"
   ]
  },
  {
   "cell_type": "code",
   "execution_count": 31,
   "metadata": {},
   "outputs": [
    {
     "name": "stdout",
     "output_type": "stream",
     "text": [
      "<class 'pandas.core.frame.DataFrame'>\n",
      "Index: 18894 entries, 0 to 18972\n",
      "Data columns (total 6 columns):\n",
      " #   Column      Non-Null Count  Dtype \n",
      "---  ------      --------------  ----- \n",
      " 0   rank        18894 non-null  object\n",
      " 1   sponsor     18894 non-null  object\n",
      " 2   num_of_lca  18894 non-null  object\n",
      " 3   avg_salary  18894 non-null  object\n",
      " 4   city        18894 non-null  object\n",
      " 5   state       18894 non-null  object\n",
      "dtypes: object(6)\n",
      "memory usage: 1.0+ MB\n"
     ]
    }
   ],
   "source": [
    "#Convert num_of_lca to int and avg_salary to float\n",
    "column_to_int = 'num_of_lca'\n",
    "column_to_float = 'avg_salary'\n",
    "\n",
    "df1_c.loc[:,column_to_int] = df1_c.loc[:,column_to_int].astype(int)\n",
    "df1_c.loc[:,column_to_float] = df1_c.loc[:,column_to_float].astype(float)\n",
    "df1_c.info()"
   ]
  },
  {
   "cell_type": "markdown",
   "metadata": {},
   "source": [
    "**Linear Regression Model**"
   ]
  },
  {
   "cell_type": "code",
   "execution_count": 32,
   "metadata": {},
   "outputs": [],
   "source": [
    "#Aggregate Data\n",
    "\n",
    "agg_df_c = df_c.groupby(['sponsor', 'occupation']).agg({\n",
    "    'avg_salary' : 'mean',\n",
    "    'num_of_lca' : 'sum' \n",
    "}).reset_index()\n",
    "\n"
   ]
  },
  {
   "cell_type": "code",
   "execution_count": 33,
   "metadata": {},
   "outputs": [],
   "source": [
    "agg_df1_c = df1_c.groupby(['sponsor', 'state']).agg({\n",
    "    'avg_salary' : 'mean',\n",
    "    'num_of_lca' : 'sum'\n",
    "}).reset_index()\n",
    "\n"
   ]
  },
  {
   "cell_type": "code",
   "execution_count": 34,
   "metadata": {},
   "outputs": [
    {
     "data": {
      "text/html": [
       "<div>\n",
       "<style scoped>\n",
       "    .dataframe tbody tr th:only-of-type {\n",
       "        vertical-align: middle;\n",
       "    }\n",
       "\n",
       "    .dataframe tbody tr th {\n",
       "        vertical-align: top;\n",
       "    }\n",
       "\n",
       "    .dataframe thead th {\n",
       "        text-align: right;\n",
       "    }\n",
       "</style>\n",
       "<table border=\"1\" class=\"dataframe\">\n",
       "  <thead>\n",
       "    <tr style=\"text-align: right;\">\n",
       "      <th></th>\n",
       "      <th>sponsor</th>\n",
       "      <th>occupation</th>\n",
       "      <th>avg_salary_occ</th>\n",
       "      <th>num_of_lca_occ</th>\n",
       "      <th>state</th>\n",
       "      <th>avg_salary_state</th>\n",
       "      <th>num_of_lca_state</th>\n",
       "    </tr>\n",
       "  </thead>\n",
       "  <tbody>\n",
       "    <tr>\n",
       "      <th>0</th>\n",
       "      <td>0 North Ave Wakefield</td>\n",
       "      <td>Budget Analysts</td>\n",
       "      <td>77500.0</td>\n",
       "      <td>1</td>\n",
       "      <td>NaN</td>\n",
       "      <td>NaN</td>\n",
       "      <td>NaN</td>\n",
       "    </tr>\n",
       "    <tr>\n",
       "      <th>1</th>\n",
       "      <td>1000 Heads</td>\n",
       "      <td>Advertising and Promotions Managers</td>\n",
       "      <td>170000.0</td>\n",
       "      <td>1</td>\n",
       "      <td>NaN</td>\n",
       "      <td>NaN</td>\n",
       "      <td>NaN</td>\n",
       "    </tr>\n",
       "    <tr>\n",
       "      <th>2</th>\n",
       "      <td>101 Supply Chain Group</td>\n",
       "      <td>Transportation, Storage, and Distribution Mana...</td>\n",
       "      <td>135000.0</td>\n",
       "      <td>1</td>\n",
       "      <td>NaN</td>\n",
       "      <td>NaN</td>\n",
       "      <td>NaN</td>\n",
       "    </tr>\n",
       "    <tr>\n",
       "      <th>3</th>\n",
       "      <td>10x Genomics</td>\n",
       "      <td>Biochemists and Biophysicists</td>\n",
       "      <td>124300.0</td>\n",
       "      <td>10</td>\n",
       "      <td>CA</td>\n",
       "      <td>147852.0</td>\n",
       "      <td>59</td>\n",
       "    </tr>\n",
       "    <tr>\n",
       "      <th>4</th>\n",
       "      <td>10x Genomics</td>\n",
       "      <td>Bioinformatics Scientists</td>\n",
       "      <td>138800.0</td>\n",
       "      <td>5</td>\n",
       "      <td>CA</td>\n",
       "      <td>147852.0</td>\n",
       "      <td>59</td>\n",
       "    </tr>\n",
       "    <tr>\n",
       "      <th>5</th>\n",
       "      <td>10x Genomics</td>\n",
       "      <td>Biomedical Engineers</td>\n",
       "      <td>113459.0</td>\n",
       "      <td>5</td>\n",
       "      <td>CA</td>\n",
       "      <td>147852.0</td>\n",
       "      <td>59</td>\n",
       "    </tr>\n",
       "    <tr>\n",
       "      <th>6</th>\n",
       "      <td>10x Genomics</td>\n",
       "      <td>Engineers, All Other</td>\n",
       "      <td>130000.0</td>\n",
       "      <td>3</td>\n",
       "      <td>CA</td>\n",
       "      <td>147852.0</td>\n",
       "      <td>59</td>\n",
       "    </tr>\n",
       "    <tr>\n",
       "      <th>7</th>\n",
       "      <td>10x Genomics</td>\n",
       "      <td>Natural Sciences Managers</td>\n",
       "      <td>182000.0</td>\n",
       "      <td>2</td>\n",
       "      <td>CA</td>\n",
       "      <td>147852.0</td>\n",
       "      <td>59</td>\n",
       "    </tr>\n",
       "    <tr>\n",
       "      <th>8</th>\n",
       "      <td>10x Genomics</td>\n",
       "      <td>Physicists</td>\n",
       "      <td>151000.0</td>\n",
       "      <td>3</td>\n",
       "      <td>CA</td>\n",
       "      <td>147852.0</td>\n",
       "      <td>59</td>\n",
       "    </tr>\n",
       "    <tr>\n",
       "      <th>9</th>\n",
       "      <td>1220 Associates</td>\n",
       "      <td>Exercise Physiologists</td>\n",
       "      <td>106080.0</td>\n",
       "      <td>1</td>\n",
       "      <td>NaN</td>\n",
       "      <td>NaN</td>\n",
       "      <td>NaN</td>\n",
       "    </tr>\n",
       "  </tbody>\n",
       "</table>\n",
       "</div>"
      ],
      "text/plain": [
       "                  sponsor                                         occupation  \\\n",
       "0   0 North Ave Wakefield                                    Budget Analysts   \n",
       "1              1000 Heads                Advertising and Promotions Managers   \n",
       "2  101 Supply Chain Group  Transportation, Storage, and Distribution Mana...   \n",
       "3            10x Genomics                      Biochemists and Biophysicists   \n",
       "4            10x Genomics                          Bioinformatics Scientists   \n",
       "5            10x Genomics                               Biomedical Engineers   \n",
       "6            10x Genomics                               Engineers, All Other   \n",
       "7            10x Genomics                          Natural Sciences Managers   \n",
       "8            10x Genomics                                         Physicists   \n",
       "9         1220 Associates                             Exercise Physiologists   \n",
       "\n",
       "  avg_salary_occ num_of_lca_occ state avg_salary_state num_of_lca_state  \n",
       "0        77500.0              1   NaN              NaN              NaN  \n",
       "1       170000.0              1   NaN              NaN              NaN  \n",
       "2       135000.0              1   NaN              NaN              NaN  \n",
       "3       124300.0             10    CA         147852.0               59  \n",
       "4       138800.0              5    CA         147852.0               59  \n",
       "5       113459.0              5    CA         147852.0               59  \n",
       "6       130000.0              3    CA         147852.0               59  \n",
       "7       182000.0              2    CA         147852.0               59  \n",
       "8       151000.0              3    CA         147852.0               59  \n",
       "9       106080.0              1   NaN              NaN              NaN  "
      ]
     },
     "execution_count": 34,
     "metadata": {},
     "output_type": "execute_result"
    }
   ],
   "source": [
    "m_df = pd.merge(agg_df_c, agg_df1_c, on='sponsor', how='outer', suffixes=('_occ', '_state'))\n",
    "m_df.head(10)"
   ]
  },
  {
   "cell_type": "code",
   "execution_count": 43,
   "metadata": {},
   "outputs": [
    {
     "data": {
      "text/html": [
       "<div>\n",
       "<style scoped>\n",
       "    .dataframe tbody tr th:only-of-type {\n",
       "        vertical-align: middle;\n",
       "    }\n",
       "\n",
       "    .dataframe tbody tr th {\n",
       "        vertical-align: top;\n",
       "    }\n",
       "\n",
       "    .dataframe thead th {\n",
       "        text-align: right;\n",
       "    }\n",
       "</style>\n",
       "<table border=\"1\" class=\"dataframe\">\n",
       "  <thead>\n",
       "    <tr style=\"text-align: right;\">\n",
       "      <th></th>\n",
       "      <th>sponsor</th>\n",
       "      <th>occupation</th>\n",
       "      <th>avg_salary_occ</th>\n",
       "      <th>num_of_lca_occ</th>\n",
       "      <th>state</th>\n",
       "      <th>avg_salary_state</th>\n",
       "      <th>num_of_lca_state</th>\n",
       "      <th>avg_salary</th>\n",
       "    </tr>\n",
       "  </thead>\n",
       "  <tbody>\n",
       "    <tr>\n",
       "      <th>count</th>\n",
       "      <td>49682</td>\n",
       "      <td>49682</td>\n",
       "      <td>49682.0</td>\n",
       "      <td>49682</td>\n",
       "      <td>49682</td>\n",
       "      <td>49682.0</td>\n",
       "      <td>49682</td>\n",
       "      <td>49682.0</td>\n",
       "    </tr>\n",
       "    <tr>\n",
       "      <th>unique</th>\n",
       "      <td>3207</td>\n",
       "      <td>193</td>\n",
       "      <td>8344.0</td>\n",
       "      <td>376</td>\n",
       "      <td>36</td>\n",
       "      <td>6123.0</td>\n",
       "      <td>378</td>\n",
       "      <td>46211.0</td>\n",
       "    </tr>\n",
       "    <tr>\n",
       "      <th>top</th>\n",
       "      <td>Amazon,Com Services</td>\n",
       "      <td>Software Developers, Applications</td>\n",
       "      <td>120000.0</td>\n",
       "      <td>1</td>\n",
       "      <td>CA</td>\n",
       "      <td>130000.0</td>\n",
       "      <td>2</td>\n",
       "      <td>120000.0</td>\n",
       "    </tr>\n",
       "    <tr>\n",
       "      <th>freq</th>\n",
       "      <td>2604</td>\n",
       "      <td>1273</td>\n",
       "      <td>186.0</td>\n",
       "      <td>5163</td>\n",
       "      <td>4679</td>\n",
       "      <td>226.0</td>\n",
       "      <td>4563</td>\n",
       "      <td>19.0</td>\n",
       "    </tr>\n",
       "  </tbody>\n",
       "</table>\n",
       "</div>"
      ],
      "text/plain": [
       "                    sponsor                         occupation  \\\n",
       "count                 49682                              49682   \n",
       "unique                 3207                                193   \n",
       "top     Amazon,Com Services  Software Developers, Applications   \n",
       "freq                   2604                               1273   \n",
       "\n",
       "        avg_salary_occ  num_of_lca_occ  state  avg_salary_state  \\\n",
       "count          49682.0           49682  49682           49682.0   \n",
       "unique          8344.0             376     36            6123.0   \n",
       "top           120000.0               1     CA          130000.0   \n",
       "freq             186.0            5163   4679             226.0   \n",
       "\n",
       "        num_of_lca_state  avg_salary  \n",
       "count              49682     49682.0  \n",
       "unique               378     46211.0  \n",
       "top                    2    120000.0  \n",
       "freq                4563        19.0  "
      ]
     },
     "execution_count": 43,
     "metadata": {},
     "output_type": "execute_result"
    }
   ],
   "source": [
    "#compute average salary\n",
    "m_df['avg_salary'] = (m_df.loc[:,'avg_salary_occ'] + m_df.loc[:,'avg_salary_state']) / 2\n",
    "\n",
    "m_df_c = m_df.dropna()\n",
    "\n",
    "m_df_c.describe()"
   ]
  },
  {
   "cell_type": "code",
   "execution_count": 76,
   "metadata": {},
   "outputs": [],
   "source": [
    "#choosing predictors\n",
    "select_index = ['sponsor', 'occupation', 'state']"
   ]
  },
  {
   "cell_type": "code",
   "execution_count": 77,
   "metadata": {},
   "outputs": [],
   "source": [
    "from sklearn.linear_model import LinearRegression\n",
    "from sklearn.preprocessing import OneHotEncoder\n",
    "\n",
    "encoder = OneHotEncoder()\n",
    "encoded_features = encoder.fit_transform(m_df_c[select_index])\n"
   ]
  },
  {
   "cell_type": "code",
   "execution_count": 78,
   "metadata": {},
   "outputs": [],
   "source": [
    "x = encoded_features.toarray()\n",
    "y = m_df_c['avg_salary']"
   ]
  },
  {
   "cell_type": "code",
   "execution_count": 79,
   "metadata": {},
   "outputs": [
    {
     "data": {
      "text/html": [
       "<style>#sk-container-id-2 {color: black;}#sk-container-id-2 pre{padding: 0;}#sk-container-id-2 div.sk-toggleable {background-color: white;}#sk-container-id-2 label.sk-toggleable__label {cursor: pointer;display: block;width: 100%;margin-bottom: 0;padding: 0.3em;box-sizing: border-box;text-align: center;}#sk-container-id-2 label.sk-toggleable__label-arrow:before {content: \"▸\";float: left;margin-right: 0.25em;color: #696969;}#sk-container-id-2 label.sk-toggleable__label-arrow:hover:before {color: black;}#sk-container-id-2 div.sk-estimator:hover label.sk-toggleable__label-arrow:before {color: black;}#sk-container-id-2 div.sk-toggleable__content {max-height: 0;max-width: 0;overflow: hidden;text-align: left;background-color: #f0f8ff;}#sk-container-id-2 div.sk-toggleable__content pre {margin: 0.2em;color: black;border-radius: 0.25em;background-color: #f0f8ff;}#sk-container-id-2 input.sk-toggleable__control:checked~div.sk-toggleable__content {max-height: 200px;max-width: 100%;overflow: auto;}#sk-container-id-2 input.sk-toggleable__control:checked~label.sk-toggleable__label-arrow:before {content: \"▾\";}#sk-container-id-2 div.sk-estimator input.sk-toggleable__control:checked~label.sk-toggleable__label {background-color: #d4ebff;}#sk-container-id-2 div.sk-label input.sk-toggleable__control:checked~label.sk-toggleable__label {background-color: #d4ebff;}#sk-container-id-2 input.sk-hidden--visually {border: 0;clip: rect(1px 1px 1px 1px);clip: rect(1px, 1px, 1px, 1px);height: 1px;margin: -1px;overflow: hidden;padding: 0;position: absolute;width: 1px;}#sk-container-id-2 div.sk-estimator {font-family: monospace;background-color: #f0f8ff;border: 1px dotted black;border-radius: 0.25em;box-sizing: border-box;margin-bottom: 0.5em;}#sk-container-id-2 div.sk-estimator:hover {background-color: #d4ebff;}#sk-container-id-2 div.sk-parallel-item::after {content: \"\";width: 100%;border-bottom: 1px solid gray;flex-grow: 1;}#sk-container-id-2 div.sk-label:hover label.sk-toggleable__label {background-color: #d4ebff;}#sk-container-id-2 div.sk-serial::before {content: \"\";position: absolute;border-left: 1px solid gray;box-sizing: border-box;top: 0;bottom: 0;left: 50%;z-index: 0;}#sk-container-id-2 div.sk-serial {display: flex;flex-direction: column;align-items: center;background-color: white;padding-right: 0.2em;padding-left: 0.2em;position: relative;}#sk-container-id-2 div.sk-item {position: relative;z-index: 1;}#sk-container-id-2 div.sk-parallel {display: flex;align-items: stretch;justify-content: center;background-color: white;position: relative;}#sk-container-id-2 div.sk-item::before, #sk-container-id-2 div.sk-parallel-item::before {content: \"\";position: absolute;border-left: 1px solid gray;box-sizing: border-box;top: 0;bottom: 0;left: 50%;z-index: -1;}#sk-container-id-2 div.sk-parallel-item {display: flex;flex-direction: column;z-index: 1;position: relative;background-color: white;}#sk-container-id-2 div.sk-parallel-item:first-child::after {align-self: flex-end;width: 50%;}#sk-container-id-2 div.sk-parallel-item:last-child::after {align-self: flex-start;width: 50%;}#sk-container-id-2 div.sk-parallel-item:only-child::after {width: 0;}#sk-container-id-2 div.sk-dashed-wrapped {border: 1px dashed gray;margin: 0 0.4em 0.5em 0.4em;box-sizing: border-box;padding-bottom: 0.4em;background-color: white;}#sk-container-id-2 div.sk-label label {font-family: monospace;font-weight: bold;display: inline-block;line-height: 1.2em;}#sk-container-id-2 div.sk-label-container {text-align: center;}#sk-container-id-2 div.sk-container {/* jupyter's `normalize.less` sets `[hidden] { display: none; }` but bootstrap.min.css set `[hidden] { display: none !important; }` so we also need the `!important` here to be able to override the default hidden behavior on the sphinx rendered scikit-learn.org. See: https://github.com/scikit-learn/scikit-learn/issues/21755 */display: inline-block !important;position: relative;}#sk-container-id-2 div.sk-text-repr-fallback {display: none;}</style><div id=\"sk-container-id-2\" class=\"sk-top-container\"><div class=\"sk-text-repr-fallback\"><pre>LinearRegression()</pre><b>In a Jupyter environment, please rerun this cell to show the HTML representation or trust the notebook. <br />On GitHub, the HTML representation is unable to render, please try loading this page with nbviewer.org.</b></div><div class=\"sk-container\" hidden><div class=\"sk-item\"><div class=\"sk-estimator sk-toggleable\"><input class=\"sk-toggleable__control sk-hidden--visually\" id=\"sk-estimator-id-2\" type=\"checkbox\" checked><label for=\"sk-estimator-id-2\" class=\"sk-toggleable__label sk-toggleable__label-arrow\">LinearRegression</label><div class=\"sk-toggleable__content\"><pre>LinearRegression()</pre></div></div></div></div></div>"
      ],
      "text/plain": [
       "LinearRegression()"
      ]
     },
     "execution_count": 79,
     "metadata": {},
     "output_type": "execute_result"
    }
   ],
   "source": [
    "model = LinearRegression()\n",
    "model.fit(x, y)"
   ]
  },
  {
   "cell_type": "code",
   "execution_count": 157,
   "metadata": {},
   "outputs": [
    {
     "name": "stdout",
     "output_type": "stream",
     "text": [
      "Predicted average salary: 173408.0\n"
     ]
    }
   ],
   "source": [
    "#prediction\n",
    "\n",
    "p = pd.DataFrame({'sponsor' : ['Linkedin'],\n",
    "                  'occupation': ['Database Architects'],\n",
    "                  'state': ['CA']\n",
    "                  })\n",
    "\n",
    "encoded_sample = encoder.transform(p).toarray()\n",
    "\n",
    "pred = model.predict(encoded_sample)\n",
    "\n",
    "print(f'Predicted average salary: {pred[0]}')"
   ]
  },
  {
   "cell_type": "code",
   "execution_count": 103,
   "metadata": {},
   "outputs": [
    {
     "name": "stdout",
     "output_type": "stream",
     "text": [
      "9723.159374325332\n"
     ]
    }
   ],
   "source": [
    "#performance evaluation\n",
    "pred_values = model.predict(x)\n",
    "e = y - pred_values\n",
    "mae = np.mean(np.abs(e))\n",
    "print(mae)"
   ]
  },
  {
   "cell_type": "code",
   "execution_count": 156,
   "metadata": {},
   "outputs": [
    {
     "data": {
      "image/png": "[encoded data removed]",
      "text/plain": [
       "<Figure size 640x480 with 1 Axes>"
      ]
     },
     "metadata": {},
     "output_type": "display_data"
    }
   ],
   "source": [
    "plt.hist(e, bins=100, color='maroon')\n",
    "plt.title('Error Distribution')\n",
    "plt.xlabel('Residual')\n",
    "plt.ylabel('Frequency')\n",
    "plt.show()"
   ]
  }
 ],
 "metadata": {
  "kernelspec": {
   "display_name": "Python 3",
   "language": "python",
   "name": "python3"
  },
  "language_info": {
   "codemirror_mode": {
    "name": "ipython",
    "version": 3
   },
   "file_extension": ".py",
   "mimetype": "text/x-python",
   "name": "python",
   "nbconvert_exporter": "python",
   "pygments_lexer": "ipython3",
   "version": "3.10.10"
  },
  "orig_nbformat": 4
 },
 "nbformat": 4,
 "nbformat_minor": 2
}
